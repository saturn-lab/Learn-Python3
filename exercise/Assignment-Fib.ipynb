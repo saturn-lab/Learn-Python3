{
 "cells": [
  {
   "cell_type": "code",
   "execution_count": 87,
   "metadata": {},
   "outputs": [
    {
     "name": "stdout",
     "output_type": "stream",
     "text": [
      "There are two results, 83 and 89.\n"
     ]
    }
   ],
   "source": [
    "#最近数字选取器\n",
    "\n",
    "\n",
    "numList = [2,3,5,7,11,13,17,19,23,29,31,37,41,53,57,61,71,73,89,83,89,97] #必须从小到大！！！\n",
    "RL = []\n",
    "inp =  \n",
    "for num in numList:\n",
    "    num=num-inp\n",
    "    RL.append(num)\n",
    "if 0 in RL:\n",
    "    res=None\n",
    "    print('closest number is the input!')\n",
    "elif inp<=numList[0]:\n",
    "    res=None\n",
    "    print(numList[0])\n",
    "elif inp>=numList[len(numList)-1]:\n",
    "    res=None\n",
    "    print(numList[len(numList)-1])\n",
    "\n",
    "\n",
    "for i in range(0,len(RL)-2):\n",
    "    j=i+1\n",
    "    if RL[i]<=0 and RL[j]>=0:\n",
    "        if abs(RL[i])==RL[j]:\n",
    "            print('There are two results, {} and {}.'.format(numList[i],numList[j]))\n",
    "            res=False\n",
    "        elif abs(RL[i])<RL[j]:\n",
    "            res=i\n",
    "        elif abs(RL[i])>RL[j]:\n",
    "            res=j\n",
    "if(res):\n",
    "    print('RL:{}'.format(RL[res]))\n",
    "    print('final:{}'.format(numList[res]))"
   ]
  },
  {
   "cell_type": "code",
   "execution_count": 103,
   "metadata": {},
   "outputs": [
    {
     "name": "stdout",
     "output_type": "stream",
     "text": [
      "[0, 1, 1, 2, 3, 5, 8, 13, 21, 34, 55, 89, 144, 233, 377, 610, 987, 1597, 2584, 4181, 6765, 10946, 17711, 28657, 46368, 75025, 121393, 196418, 317811, 514229, 832040, 1346269, 2178309, 3524578, 5702887, 9227465, 14930352, 24157817, 39088169, 63245986, 102334155, 165580141, 267914296, 433494437, 701408733, 1134903170, 1836311903, 2971215073, 4807526976, 7778742049, 12586269025, 20365011074]\n"
     ]
    }
   ],
   "source": [
    "#斐波那契数列生成器\n",
    "\n",
    "\n",
    "numList = [0,1]\n",
    "for i in range(0,50):\n",
    "    j=i+1\n",
    "    n=numList[i]+numList[j]\n",
    "    numList.append(n)\n",
    "print(numList)"
   ]
  },
  {
   "cell_type": "code",
   "execution_count": 3,
   "metadata": {},
   "outputs": [
    {
     "name": "stdout",
     "output_type": "stream",
     "text": [
      "There are two results, 3 and 5, both of which are 1 units away from your input\n"
     ]
    }
   ],
   "source": [
    "\n",
    "\n",
    "\n",
    "inp =  4  #This is where you put in your number!\n",
    "\n",
    "\n",
    "\n",
    "numList = [0,1]\n",
    "for i in range(0,50):\n",
    "    j=i+1\n",
    "    n=numList[i]+numList[j]\n",
    "    numList.append(n)\n",
    "    \n",
    "    \n",
    "RL = []\n",
    "for num in numList:\n",
    "    num=num-inp\n",
    "    RL.append(num)\n",
    "if 0 in RL:\n",
    "    res=False\n",
    "    print('The closest number is your input!')\n",
    "elif inp<=numList[0]:\n",
    "    res=False\n",
    "    print(numList[0])\n",
    "elif inp>=numList[len(numList)-1]:\n",
    "    res=False\n",
    "    print(numList[len(numList)-1])\n",
    "\n",
    "\n",
    "for i in range(0,len(RL)-2):\n",
    "    j=i+1\n",
    "    if RL[i]<=0 and RL[j]>=0:\n",
    "        if abs(RL[i])==RL[j]:\n",
    "            print('There are two results, {} and {}, both of which are {} units away from your input'.format(numList[i],numList[j],RL[j]))\n",
    "            res=False\n",
    "        elif abs(RL[i])<RL[j]:\n",
    "            res=i\n",
    "        elif abs(RL[i])>RL[j]:\n",
    "            res=j\n",
    "if res:  \n",
    "    print('The disposition of the closest number in terms of your input:{}'.format(RL[res]))\n",
    "    print('The closest number to your input:{}'.format(numList[res]))\n",
    "\n"
   ]
  },
  {
   "cell_type": "code",
   "execution_count": null,
   "metadata": {},
   "outputs": [],
   "source": []
  }
 ],
 "metadata": {
  "kernelspec": {
   "display_name": "Python 3",
   "language": "python",
   "name": "python3"
  },
  "language_info": {
   "codemirror_mode": {
    "name": "ipython",
    "version": 3
   },
   "file_extension": ".py",
   "mimetype": "text/x-python",
   "name": "python",
   "nbconvert_exporter": "python",
   "pygments_lexer": "ipython3",
   "version": "3.7.4"
  }
 },
 "nbformat": 4,
 "nbformat_minor": 2
}
