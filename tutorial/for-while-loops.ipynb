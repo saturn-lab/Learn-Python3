{
 "cells": [
  {
   "cell_type": "code",
   "execution_count": 1,
   "metadata": {},
   "outputs": [],
   "source": [
    "names=['Michael', 'Bob', 'Tracy']"
   ]
  },
  {
   "cell_type": "code",
   "execution_count": 3,
   "metadata": {},
   "outputs": [
    {
     "name": "stdout",
     "output_type": "stream",
     "text": [
      "Michael*\n",
      "Bob*\n",
      "Tracy*\n"
     ]
    }
   ],
   "source": [
    "for name in names:\n",
    "    print(name,sep=':',end='*\\n')"
   ]
  },
  {
   "cell_type": "code",
   "execution_count": 4,
   "metadata": {},
   "outputs": [],
   "source": [
    "dic={'a':1,'b':2,'c':3}"
   ]
  },
  {
   "cell_type": "code",
   "execution_count": 7,
   "metadata": {},
   "outputs": [
    {
     "name": "stdout",
     "output_type": "stream",
     "text": [
      "a:1 b:2 c:3 "
     ]
    }
   ],
   "source": [
    "for key, value in dic.items():\n",
    "    print(key, value, sep=':',end=' ')"
   ]
  },
  {
   "cell_type": "code",
   "execution_count": 9,
   "metadata": {},
   "outputs": [
    {
     "name": "stdout",
     "output_type": "stream",
     "text": [
      "a b c "
     ]
    }
   ],
   "source": [
    "for key in dic.keys():\n",
    "    print(key, sep=':',end=' ')"
   ]
  },
  {
   "cell_type": "code",
   "execution_count": 11,
   "metadata": {},
   "outputs": [
    {
     "name": "stdout",
     "output_type": "stream",
     "text": [
      "1 2 3 "
     ]
    }
   ],
   "source": [
    "for value in dic.values():\n",
    "    print(value, sep=':',end=' ')"
   ]
  },
  {
   "cell_type": "code",
   "execution_count": 13,
   "metadata": {},
   "outputs": [
    {
     "name": "stdout",
     "output_type": "stream",
     "text": [
      "开始录入小红的考试成绩!\n",
      "请输入数学成绩:\n",
      "60\n",
      "请输入数学成绩:\n",
      "50\n",
      "开始录入小红的考试成绩!\n",
      "请输入数学成绩:\n",
      "70\n",
      "请输入数学成绩:\n",
      "80\n",
      "['小明', '小红'] 的总分依次是 [110, 150] , 平均分依次是 [55.0, 75.0]\n",
      "完成成绩录入！\n"
     ]
    }
   ],
   "source": [
    "students = ['小明', '小红']\n",
    "subjects = ['语文', '数学'] \n",
    "sum1 = []\n",
    "avg = []\n",
    "for student in students: \n",
    "    print ('开始录入%s的考试成绩!'%i) \n",
    "    sum = 0\n",
    "    for subject in subjects: \n",
    "        print('请输入%s成绩:'%j) \n",
    "        score = int(input())\n",
    "        sum += score\n",
    "    average = sum / 2\n",
    "    avg.append(average)\n",
    "    sum1.append(sum)\n",
    "print(students, '的总分依次是', sum1, ',', '平均分依次是', avg)\n",
    "print('完成成绩录入！')"
   ]
  },
  {
   "cell_type": "code",
   "execution_count": null,
   "metadata": {},
   "outputs": [],
   "source": []
  }
 ],
 "metadata": {
  "kernelspec": {
   "display_name": "Python 3",
   "language": "python",
   "name": "python3"
  },
  "language_info": {
   "codemirror_mode": {
    "name": "ipython",
    "version": 3
   },
   "file_extension": ".py",
   "mimetype": "text/x-python",
   "name": "python",
   "nbconvert_exporter": "python",
   "pygments_lexer": "ipython3",
   "version": "3.7.3"
  }
 },
 "nbformat": 4,
 "nbformat_minor": 2
}
